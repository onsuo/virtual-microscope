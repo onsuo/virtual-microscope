{
 "cells": [
  {
   "cell_type": "markdown",
   "metadata": {},
   "source": [
    "# WSL2를 통한 서버 운영\n",
    "\n",
    "1. 외부IP:포트 -> 내부IP:포트 -> WSL2가상IP:포트\n",
    "\n",
    "    - 외부 -> 내부 포트포워딩, 방화벽 해제\n",
    "    - 내부 -> WSL2 포트포워딩, 방화벽 해제\n",
    "\n",
    "2. WSL2가상IP:포트 -> web server\n"
   ]
  },
  {
   "cell_type": "markdown",
   "metadata": {},
   "source": [
    "-   Web Server -- NGINX\n",
    "-   Web Application Server (WAS) -- Django\n",
    "-   Database Server (DB) -- MySQL\n",
    "\n",
    "Client <-> Web Server <-> WAS <-> DB\n"
   ]
  },
  {
   "cell_type": "markdown",
   "metadata": {},
   "source": [
    "## Installation\n",
    "\n",
    "NGINX - uWSGI - Django : [Setup Guide](https://uwsgi-docs.readthedocs.io/en/latest/tutorials/Django_and_nginx.html)\n",
    "\n",
    "-   NGINX\n",
    "    -   apt install nginx\n",
    "-   uWSGI: NGINX, Django 연결\n",
    "    -   conda install uwsgi (테스트용)\n",
    "    -   실 사용을 위해서는 전역 설치가 권장됨. (nginx의 www-data에게 서버 파일 접근권한을 주기 위함인 듯..?)\n",
    "-   Django\n",
    "    -   conda install Django\n"
   ]
  },
  {
   "cell_type": "markdown",
   "metadata": {},
   "source": [
    "## Django 초기 세팅\n"
   ]
  },
  {
   "cell_type": "code",
   "metadata": {},
   "source": [
    "import django\n",
    "\n",
    "print(django.get_version())"
   ],
   "outputs": [],
   "execution_count": null
  },
  {
   "cell_type": "code",
   "metadata": {},
   "source": [
    "%cd /home/onsuo/dev/virtual_microscope\n",
    "! mkdir server_project\n",
    "! django-admin startproject config server_project"
   ],
   "outputs": [],
   "execution_count": null
  },
  {
   "cell_type": "code",
   "metadata": {},
   "source": [
    "%cd /home/onsuo/dev/virtual_microscope/server_project\n",
    "! python manage.py -h"
   ],
   "outputs": [],
   "execution_count": null
  },
  {
   "metadata": {},
   "cell_type": "markdown",
   "source": "모든 앱에 `migrations/__init__.py` 만들기"
  },
  {
   "cell_type": "code",
   "metadata": {},
   "source": [
    "%cd /home/onsuo/dev/virtual_microscope/server_project\n",
    "! python manage.py makemigrations --noinput  # migration 생성"
   ],
   "outputs": [],
   "execution_count": null
  },
  {
   "cell_type": "code",
   "metadata": {},
   "source": [
    "%cd /home/onsuo/dev/virtual_microscope/server_project\n",
    "! python manage.py migrate  # migration 실행(database에 적용)"
   ],
   "outputs": [],
   "execution_count": null
  },
  {
   "cell_type": "code",
   "metadata": {},
   "source": [
    "%cd /home/onsuo/dev/virtual_microscope/server_project\n",
    "! mkdir apps\n",
    "%cd apps\n",
    "! django-admin startapp viewer"
   ],
   "outputs": [],
   "execution_count": null
  },
  {
   "cell_type": "code",
   "metadata": {},
   "source": [
    "%cd /home/onsuo/dev/virtual_microscope/server_project\n",
    "! python manage.py collectstatic --noinput  # static 리소스 모두 STATIC_ROOT로 모음"
   ],
   "outputs": [],
   "execution_count": null
  },
  {
   "cell_type": "markdown",
   "metadata": {},
   "source": [
    "## client <-> Django <-> Python\n",
    "\n",
    "-   기능 개발용으로는 Django 자체 서버를 이용해도 충분함\n"
   ]
  },
  {
   "cell_type": "code",
   "metadata": {},
   "source": [
    "%cd /home/onsuo/dev/virtual_microscope/server_project\n",
    "! python manage.py runserver 0.0.0.0:8080"
   ],
   "outputs": [],
   "execution_count": null
  },
  {
   "cell_type": "markdown",
   "metadata": {},
   "source": [
    "## client <-> uWSGI <-> Python\n"
   ]
  },
  {
   "cell_type": "code",
   "metadata": {},
   "source": [
    "# test.py\n",
    "\"\"\"\n",
    "def application(env, start_response):\n",
    "    start_response('200 OK', [('Content-Type', 'text/html')])\n",
    "    return [b'Hello World']\n",
    "\"\"\""
   ],
   "outputs": [],
   "execution_count": null
  },
  {
   "cell_type": "code",
   "metadata": {},
   "source": [
    "! uwsgi --http :8400 --wsgi-file test.py"
   ],
   "outputs": [],
   "execution_count": null
  },
  {
   "cell_type": "markdown",
   "metadata": {},
   "source": [
    "## client <-> uWSGI <-> Django <-> Python\n"
   ]
  },
  {
   "cell_type": "code",
   "metadata": {},
   "source": [
    "%cd /home/onsuo/dev/virtual_microscope/server_project\n",
    "! uwsgi --http :8400 --module config.wsgi"
   ],
   "outputs": [],
   "execution_count": null
  },
  {
   "cell_type": "markdown",
   "metadata": {},
   "source": [
    "## client <-> NGINX <-> socket <-> uWSGI <-> Django <-> Python\n"
   ]
  },
  {
   "cell_type": "code",
   "metadata": {},
   "source": [
    "# /etc/nginx/sites-available/mysite_nginx.conf\n",
    "\"\"\"\n",
    "# the upstream component nginx needs to connect to\n",
    "upstream django {\n",
    "    # server unix:///path/to/your/mysite/mysite.sock; # for a file socket\n",
    "    server 127.0.0.1:8001;\n",
    "}\n",
    "\n",
    "# configuration of the server\n",
    "server {\n",
    "    # the port your site will be served on\n",
    "    listen      8000;\n",
    "    # the domain name it will serve for\n",
    "    server_name 0.0.0.0;\n",
    "    charset     utf-8;\n",
    "\n",
    "    # max upload size\n",
    "    client_max_body_size 75M;\n",
    "\n",
    "    # Django media\n",
    "    location /media/  {\n",
    "        alias /home/onsuo/dev/virtual_microscope/server_project/media/;\n",
    "    }\n",
    "\n",
    "    location /static/ {\n",
    "        alias /home/onsuo/dev/virtual_microscope/server_project/static/;\n",
    "    }\n",
    "\n",
    "    # Finally, send all non-media requests to the Django server.\n",
    "    location / {\n",
    "        uwsgi_pass  django;\n",
    "        include     /home/onsuo/dev/virtual_microscope/server_project/uwsgi_params;\n",
    "    }\n",
    "}\n",
    "\"\"\"\n",
    "\n",
    "# uWSGI 전역 설치 전까지는 nginx.conf의 'user www-data'를 'user <myuser>'로 바꿔두기"
   ],
   "outputs": [],
   "execution_count": null
  },
  {
   "cell_type": "code",
   "metadata": {},
   "source": [
    "# symbolic-link\n",
    "! echo 'onsuo' | sudo -S ln -s /etc/nginx/sites-available/virtual_microscope.conf /etc/nginx/sites-enabled/"
   ],
   "outputs": [],
   "execution_count": null
  },
  {
   "cell_type": "code",
   "metadata": {},
   "source": [
    "! echo 'onsuo' | sudo -S systemctl restart nginx"
   ],
   "outputs": [],
   "execution_count": null
  },
  {
   "cell_type": "code",
   "metadata": {},
   "source": [
    "%cd /home/onsuo/dev/virtual_microscope/server_project\n",
    "! uwsgi --socket :8001 --module config.wsgi  # using port"
   ],
   "outputs": [],
   "execution_count": null
  },
  {
   "cell_type": "code",
   "metadata": {},
   "source": [
    "! echo 'onsuo' | sudo -S systemctl stop nginx"
   ],
   "outputs": [],
   "execution_count": null
  },
  {
   "metadata": {},
   "cell_type": "markdown",
   "source": [
    "# Virtual Microscope Server\n",
    "\n",
    "## Structure\n",
    "\n",
    "## Management Guideline"
   ]
  }
 ],
 "metadata": {
  "kernelspec": {
   "display_name": "vscope",
   "language": "python",
   "name": "python3"
  },
  "language_info": {
   "codemirror_mode": {
    "name": "ipython",
    "version": 3
   },
   "file_extension": ".py",
   "mimetype": "text/x-python",
   "name": "python",
   "nbconvert_exporter": "python",
   "pygments_lexer": "ipython3",
   "version": "3.11.10"
  }
 },
 "nbformat": 4,
 "nbformat_minor": 2
}
