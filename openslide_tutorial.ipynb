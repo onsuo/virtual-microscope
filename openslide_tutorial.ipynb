{
 "cells": [
  {
   "cell_type": "markdown",
   "metadata": {},
   "source": [
    "# Openslide\n"
   ]
  },
  {
   "cell_type": "markdown",
   "metadata": {},
   "source": [
    "## Installation ([link](https://openslide.org/api/python/#installing))\n",
    "\n",
    "-   Linux or MacOS\n",
    "\n",
    "    1. **Openslide** 설치: Package Manager를 이용하여 설치함\n",
    "    2. **Openslide Python** 설치: Package Manager 혹은 PIP를 이용하여 설치\n",
    "\n",
    "    -   1, 2 모두 Package Manager를 이용하는 경우, 동일한 Package Manager를 사용할 것\n",
    "\n",
    "-   Windows\n",
    "\n",
    "    1. Windows Binaries를 다운받은 후 원하는 경로에 압축해제\n",
    "    2. 직접 경로를 지정하여 사용함\n",
    "\n",
    "    -   `with os.add_dll_directory(r'c:\\path\\to\\openslide-win64\\bin')` 내부에서 openslide를 import 함\n"
   ]
  },
  {
   "cell_type": "code",
   "metadata": {},
   "source": [
    "import os\n",
    "\n",
    "SLIDE_FOLDER_PATH = \"slides\"\n",
    "SLIDE_FILE_PATH = os.path.join(SLIDE_FOLDER_PATH, os.listdir(SLIDE_FOLDER_PATH)[0])"
   ],
   "outputs": [],
   "execution_count": null
  },
  {
   "cell_type": "markdown",
   "metadata": {},
   "source": [
    "## Openslide Object\n",
    "\n",
    "-   원본 이미지 1장 -> downscale 하여 작은 이미지 생성한 것\n"
   ]
  },
  {
   "cell_type": "code",
   "metadata": {},
   "source": [
    "from openslide import OpenSlide\n",
    "\n",
    "print(OpenSlide.detect_format(SLIDE_FILE_PATH))  # classmethod"
   ],
   "outputs": [],
   "execution_count": null
  },
  {
   "cell_type": "code",
   "metadata": {},
   "source": [
    "with OpenSlide(SLIDE_FILE_PATH) as slide:\n",
    "    for name, value in slide.properties.items():\n",
    "        print(f\"{name:<40} {value}\")"
   ],
   "outputs": [],
   "execution_count": null
  },
  {
   "cell_type": "code",
   "metadata": {},
   "source": [
    "with OpenSlide(SLIDE_FILE_PATH) as slide:\n",
    "    print(\"level_count:\", slide.level_count)\n",
    "\n",
    "    print(\"level_dimensions:\")\n",
    "    for i, value in enumerate(slide.level_dimensions):\n",
    "        print(f\"\\t{i:<2} {value}\")\n",
    "\n",
    "    print(\"level_downsamples:\")\n",
    "    for i, value in enumerate(slide.level_downsamples):\n",
    "        print(f\"\\t{i:<2} {value}\")\n",
    "\n",
    "    print(\"best level for downsampling by a factor of 10:\", slide.get_best_level_for_downsample(10))"
   ],
   "outputs": [],
   "execution_count": null
  },
  {
   "cell_type": "code",
   "metadata": {},
   "source": [
    "with OpenSlide(SLIDE_FILE_PATH) as slide:\n",
    "    print(\"associated_images:\")\n",
    "    for name, image in slide.associated_images.items():\n",
    "        print(f\"\\t{name}:\", image)\n",
    "        width, height = image.size\n",
    "        ratio = width / height\n",
    "        new_height = 200\n",
    "        image.resize((int(new_height * ratio), new_height)).show()"
   ],
   "outputs": [],
   "execution_count": null
  },
  {
   "cell_type": "code",
   "metadata": {},
   "source": [
    "with OpenSlide(SLIDE_FILE_PATH) as slide:\n",
    "    thumbnail = slide.get_thumbnail((256, 256))\n",
    "    print(\"get_thumbnail:\", thumbnail)\n",
    "    thumbnail.show()"
   ],
   "outputs": [],
   "execution_count": null
  },
  {
   "cell_type": "code",
   "metadata": {},
   "source": [
    "with OpenSlide(SLIDE_FILE_PATH) as slide:\n",
    "    region = slide.read_region((0, 0), 4, (300, 300))\n",
    "    print(\"read_region:\", region)\n",
    "    region.show()"
   ],
   "outputs": [],
   "execution_count": null
  },
  {
   "cell_type": "code",
   "metadata": {},
   "source": [
    "from openslide import OpenSlideCache\n",
    "\n",
    "with OpenSlide(SLIDE_FILE_PATH) as slide:\n",
    "    slide.set_cache(OpenSlideCache(1024))"
   ],
   "outputs": [],
   "execution_count": null
  },
  {
   "cell_type": "markdown",
   "metadata": {},
   "source": [
    "## Deep Zoom Support\n",
    "\n",
    "-   openslide object를 tile로 쪼개서 쉽게 접근할 수 있도록 한 것.\n"
   ]
  },
  {
   "cell_type": "code",
   "metadata": {},
   "source": [
    "from openslide import OpenSlide\n",
    "from openslide.deepzoom import DeepZoomGenerator\n",
    "\n",
    "with OpenSlide(SLIDE_FILE_PATH) as slide:\n",
    "    deepzoom = DeepZoomGenerator(slide)  # (tile_size + 2 * overlap)이 2의 거듭제곱이 되도록\n",
    "    print(\"level_count:\", deepzoom.level_count)\n",
    "\n",
    "    print(\"tile_count:\", deepzoom.tile_count)\n",
    "\n",
    "    print(\"level_tiles\")\n",
    "    for i, value in enumerate(deepzoom.level_tiles):\n",
    "        print(f\"\\t{i:<2} {value}\")\n",
    "\n",
    "    print(\"level_dimensions\")\n",
    "    for i, value in enumerate(deepzoom.level_dimensions):\n",
    "        print(f\"\\t{i:<2} {value}\")"
   ],
   "outputs": [],
   "execution_count": null
  },
  {
   "cell_type": "code",
   "metadata": {},
   "source": [
    "with OpenSlide(SLIDE_FILE_PATH) as slide:\n",
    "    deepzoom = DeepZoomGenerator(slide)\n",
    "    print(\"get_dzi:\", deepzoom.get_dzi(\"jpeg\"))  # or 'png'"
   ],
   "outputs": [],
   "execution_count": null
  },
  {
   "cell_type": "code",
   "metadata": {},
   "source": [
    "with OpenSlide(SLIDE_FILE_PATH) as slide:\n",
    "    deepzoom = DeepZoomGenerator(slide)\n",
    "    tile = deepzoom.get_tile(15, (40, 40))\n",
    "    print(\"get_tile:\", tile)\n",
    "    tile.show()"
   ],
   "outputs": [],
   "execution_count": null
  },
  {
   "cell_type": "code",
   "metadata": {},
   "source": [
    "with OpenSlide(SLIDE_FILE_PATH) as slide:\n",
    "    deepzoom = DeepZoomGenerator(slide)\n",
    "    coord = deepzoom.get_tile_coordinates(15, (40, 40))\n",
    "    print(\"get_tile_coordinates:\", coord)\n",
    "\n",
    "    region = slide.read_region(*coord)\n",
    "    print(\"read_region by coordinates:\", region)\n",
    "    region.show()"
   ],
   "outputs": [],
   "execution_count": null
  },
  {
   "cell_type": "code",
   "metadata": {},
   "source": [
    "with OpenSlide(SLIDE_FILE_PATH) as slide:\n",
    "    deepzoom = DeepZoomGenerator(slide)\n",
    "    # tile 1개 크기\n",
    "    print(\"get_tile_dimensions:\", deepzoom.get_tile_dimensions(15, (40, 40)))\n",
    "    print(\"get_tile_dimensions:\", deepzoom.get_tile_dimensions(8, (0, 0)))\n",
    "    print(\"get_tile_dimensions:\", deepzoom.get_tile_dimensions(4, (0, 0)))"
   ],
   "outputs": [],
   "execution_count": null
  }
 ],
 "metadata": {
  "kernelspec": {
   "display_name": "vscope",
   "language": "python",
   "name": "python3"
  },
  "language_info": {
   "codemirror_mode": {
    "name": "ipython",
    "version": 3
   },
   "file_extension": ".py",
   "mimetype": "text/x-python",
   "name": "python",
   "nbconvert_exporter": "python",
   "pygments_lexer": "ipython3",
   "version": "3.11.10"
  }
 },
 "nbformat": 4,
 "nbformat_minor": 2
}
